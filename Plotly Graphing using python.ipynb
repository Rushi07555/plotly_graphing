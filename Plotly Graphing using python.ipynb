{
 "cells": [
  {
   "cell_type": "code",
   "execution_count": null,
   "id": "75733ee2",
   "metadata": {},
   "outputs": [],
   "source": [
    "## Import statements"
   ]
  },
  {
   "cell_type": "code",
   "execution_count": null,
   "id": "6a8a0572",
   "metadata": {},
   "outputs": [],
   "source": [
    "import pandas as pd\n",
    "import numpy as  np\n",
    "import matplotlib as plt                                    \n",
    "import seaborn\n",
    "import plotly\n",
    "from plotly.offline import download_plotlyjs, init_notebook_mode, iplot\n",
    "import plotly.graph_objs as go\n",
    "import plotly.graph_objects as go\n",
    "import plotly.io as pio\n",
    "import plotly.express as px\n",
    "import datetime\n",
    "init_notebook_mode(connected=True)"
   ]
  },
  {
   "cell_type": "markdown",
   "id": "f361c1c0",
   "metadata": {},
   "source": [
    "## Line Plot"
   ]
  },
  {
   "cell_type": "code",
   "execution_count": null,
   "id": "4178c9ab",
   "metadata": {},
   "outputs": [],
   "source": [
    "import numpy as np\n",
    "np.random.seed(1)\n",
    "\n",
    "N = 100\n",
    "random_x = np.linspace(0, 1, N)\n",
    "random_y0 = np.random.randn(N) + 5\n",
    "random_y1 = np.random.randn(N)"
   ]
  },
  {
   "cell_type": "code",
   "execution_count": null,
   "id": "4893f0bd",
   "metadata": {},
   "outputs": [],
   "source": [
    "fig = go.Figure()\n",
    "fig.add_traces(go.Scatter(x = random_x, y = random_y0, mode = 'lines+markers',name='line'))\n",
    "fig.update_layout(\n",
    "    title=\"Line Plot \",\n",
    "    xaxis_title=\"X axis title\",\n",
    "    yaxis_title=\"Y axis title\",\n",
    "    title_x=0.5,\n",
    "    font=dict(\n",
    "        family=\"Courier New, monospace\",\n",
    "        size=18,\n",
    "        color=\"#7f7f7f\"\n",
    "    )\n",
    ")\n",
    "fig.show()\n",
    "# save plot as html\n",
    "# plotly.offline.plot(fig, filename='line_plot.html',auto_open=False)"
   ]
  },
  {
   "cell_type": "code",
   "execution_count": null,
   "id": "84d20523",
   "metadata": {},
   "outputs": [],
   "source": [
    "# for multiple line plot just add traces or you can add for loop\n",
    "fig = go.Figure()\n",
    "fig.add_traces(go.Scatter(x = random_x, y = random_y0, mode = 'lines+markers',name='line1'))\n",
    "fig.add_traces(go.Scatter(x = random_x, y = random_y1, mode = 'lines+markers',name='line2'))\n",
    "\n",
    "fig.update_layout(\n",
    "    title=\"Line Plot \",\n",
    "    xaxis_title=\"X axis title\",\n",
    "    yaxis_title=\"Y axis title\",\n",
    "    title_x=0.5,\n",
    "    font=dict(\n",
    "        family=\"Courier New, monospace\",\n",
    "        size=18,\n",
    "        color=\"#7f7f7f\"\n",
    "    )\n",
    ")\n",
    "fig.show()\n",
    "# save plot as html\n",
    "# plotly.offline.plot(fig, filename='line_plot.html',auto_open=False)"
   ]
  },
  {
   "cell_type": "markdown",
   "id": "a977a35f",
   "metadata": {},
   "source": [
    "## Scatter plot"
   ]
  },
  {
   "cell_type": "code",
   "execution_count": null,
   "id": "04590535",
   "metadata": {},
   "outputs": [],
   "source": [
    "y = np.random.randn(500)\n",
    "\n",
    "# for multiple line plot just add traces\n",
    "fig = go.Figure()\n",
    "fig.add_traces(go.Scatter(y = y, mode = 'markers',name='line1'))\n",
    "\n",
    "fig.update_layout(\n",
    "    title=\"Scatter Plot \",\n",
    "    xaxis_title=\"X axis title\",\n",
    "    yaxis_title=\"Y axis title\",\n",
    "    title_x=0.5,\n",
    "    font=dict(\n",
    "        family=\"Courier New, monospace\",\n",
    "        size=18,\n",
    "        color=\"#7f7f7f\"\n",
    "    )\n",
    ")\n",
    "fig.show()\n",
    "# save plot as html\n",
    "# plotly.offline.plot(fig, filename='line_plot.html',auto_open=False)"
   ]
  },
  {
   "cell_type": "markdown",
   "id": "17e218aa",
   "metadata": {},
   "source": [
    "## Box plot"
   ]
  },
  {
   "cell_type": "code",
   "execution_count": null,
   "id": "04b25f65",
   "metadata": {},
   "outputs": [],
   "source": [
    "import plotly.express as px\n",
    "df = px.data.tips()"
   ]
  },
  {
   "cell_type": "code",
   "execution_count": null,
   "id": "6bfffdb0",
   "metadata": {
    "scrolled": false
   },
   "outputs": [],
   "source": [
    "fig = go.Figure()\n",
    "fig.add_trace(go.Box(y=df['total_bill'], name='param'))\n",
    "fig.show()\n",
    "# plotly.offline.plot(fig, filename='box_plot1.html',auto_open=False)"
   ]
  },
  {
   "cell_type": "code",
   "execution_count": null,
   "id": "122dd262",
   "metadata": {},
   "outputs": [],
   "source": []
  }
 ],
 "metadata": {
  "kernelspec": {
   "display_name": "Python 3",
   "language": "python",
   "name": "python3"
  },
  "language_info": {
   "codemirror_mode": {
    "name": "ipython",
    "version": 3
   },
   "file_extension": ".py",
   "mimetype": "text/x-python",
   "name": "python",
   "nbconvert_exporter": "python",
   "pygments_lexer": "ipython3",
   "version": "3.8.10"
  }
 },
 "nbformat": 4,
 "nbformat_minor": 5
}
